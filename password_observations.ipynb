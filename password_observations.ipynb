{
 "cells": [
  {
   "cell_type": "code",
   "execution_count": 1,
   "metadata": {},
   "outputs": [
    {
     "name": "stdout",
     "output_type": "stream",
     "text": [
      "Observation 1: Password Length Distribution\n",
      "length\n",
      "10    10\n",
      "7      3\n",
      "6      2\n",
      "8      2\n",
      "9      1\n",
      "12     1\n",
      "Name: count, dtype: int64\n",
      "\n",
      "Observation 2: Average Password Strength\n",
      "The most common strength in user passwords is 'medium'.\n"
     ]
    }
   ],
   "source": [
    "import pandas as pd\n",
    "import json\n",
    "\n",
    "def analyze_passwords():\n",
    "    password_log_data = []\n",
    "    with open('password_log.json', 'r') as file:\n",
    "        for line in file:\n",
    "            password_log_data.append(json.loads(line))\n",
    "    password_log_df = pd.DataFrame(password_log_data)\n",
    "    password_complexity_distribution = password_log_df['length'].value_counts().sort_index()\n",
    "    \n",
    "    print(\"Observation 1: Password Length Distribution\")\n",
    "    print(password_complexity_distribution)\n",
    "\n",
    "    with open('user_pass_file.json', 'r') as file:\n",
    "        user_pass_data = json.load(file)\n",
    "    user_pass_df = pd.DataFrame(list(user_pass_data.values()))\n",
    "    average_password_strength = user_pass_df['strength'].value_counts().idxmax()\n",
    "    \n",
    "    print(\"\\nObservation 2: Average Password Strength\")\n",
    "    print(f\"The most common strength in user passwords is '{average_password_strength}'.\")\n",
    "    \n",
    "if __name__ == \"__main__\":\n",
    "    analyze_passwords()"
   ]
  }
 ],
 "metadata": {
  "kernelspec": {
   "display_name": "Python 3",
   "language": "python",
   "name": "python3"
  },
  "language_info": {
   "codemirror_mode": {
    "name": "ipython",
    "version": 3
   },
   "file_extension": ".py",
   "mimetype": "text/x-python",
   "name": "python",
   "nbconvert_exporter": "python",
   "pygments_lexer": "ipython3",
   "version": "3.12.0"
  }
 },
 "nbformat": 4,
 "nbformat_minor": 2
}
